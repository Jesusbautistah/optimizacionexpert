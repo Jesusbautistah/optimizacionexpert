{
 "cells": [
  {
   "cell_type": "code",
   "execution_count": 1,
   "id": "eba21227",
   "metadata": {},
   "outputs": [],
   "source": [
    "import matplotlib.pyplot as plt\n",
    "import numpy as np\n",
    "import random \n",
    "import pandas as pd\n",
    "from pyomo.environ import *\n",
    "from shapely.geometry import LineString\n",
    "import itertools\n",
    "import os\n",
    "from pyomo import environ as pe\n",
    "\n",
    "os.environ['NEOS_EMAIL'] = 'XXXXXX@gmail.com' "
   ]
  },
  {
   "cell_type": "code",
   "execution_count": null,
   "id": "b97654f5",
   "metadata": {},
   "outputs": [],
   "source": []
  },
  {
   "cell_type": "code",
   "execution_count": 2,
   "id": "96c30a0a",
   "metadata": {},
   "outputs": [
    {
     "data": {
      "text/plain": [
       "{0: [0, 0, 6, 0, 0, 0, 0, 3, 0, 0],\n",
       " 1: [0, 4, 0, 0, 0, 0, 0, 0, 4, 0],\n",
       " 2: [4, 0, 3, 0, 0, 0, 0, 3, 0, 4],\n",
       " 3: [0, 0, 0, 2, 0, 0, 9, 0, 0, 0],\n",
       " 4: [0, 0, 0, 0, 2, 3, 0, 0, 0, 0],\n",
       " 5: [0, 0, 0, 0, 3, 4, 0, 0, 0, 0],\n",
       " 6: [0, 0, 0, 2, 0, 0, 6, 0, 0, 0],\n",
       " 7: [6, 0, 3, 0, 0, 0, 0, 4, 0, 6],\n",
       " 8: [0, 6, 0, 0, 0, 0, 0, 0, 6, 0],\n",
       " 9: [0, 0, 4, 0, 0, 0, 0, 3, 0, 0]}"
      ]
     },
     "execution_count": 2,
     "metadata": {},
     "output_type": "execute_result"
    }
   ],
   "source": [
    "Kolors  = [\n",
    "    \"#1f77b4\", \"#ff7f0e\", \"#2ca02c\", \"#d62728\", \"#9467bd\",\n",
    "    \"#8c564b\", \"#e377c2\", \"#7f7f7f\", \"#bcbd22\", \"#17becf\",\n",
    "    \"#aec7e8\", \"#ffbb78\", \"#98df8a\", \"#ff9896\", \"#c5b0d5\",\n",
    "    \"#c49c94\", \"#f7b6d2\", \"#c7c7c7\", \"#dbdb8d\", \"#9edae5\",\n",
    "    \"#393b79\", \"#e6550d\", \"#637939\", \"#d6616b\", \"#843c39\",\n",
    "    \"#b5cf6b\", \"#d62728\", \"#7b4173\", \"#ce6dbd\", \"#bd9e39\",\n",
    "    \"#1f77b4\", \"#ff7f0e\", \"#2ca02c\", \"#d62728\", \"#9467bd\",\n",
    "    \"#8c564b\", \"#e377c2\", \"#7f7f7f\", \"#bcbd22\", \"#17becf\"]\n",
    "random.shuffle(Kolors)\n",
    "\n",
    "\n",
    "\n",
    "# You can access these colors by index, e.g., matplotlib_colors[0] is \"b\" (blue).\n",
    "\n",
    "\n",
    "D = pd.read_csv(\"30x30-16.txt\")\n",
    "D = pd.read_csv(\"5x5-1.txt\")\n",
    "D = pd.read_csv(\"002_shikaku.txt\")\n",
    "D = pd.read_csv(\"003_shikaku.txt\")\n",
    "\n",
    "\n",
    "\n",
    "N = len(D)\n",
    "\n",
    "init_data = {}\n",
    "for r in range(N):\n",
    "    \n",
    "    #init_data[r] = [int(d) for d in D.iloc[r,0] if d!=' '] \n",
    "    my_list = [word.strip() for word in D.iloc[r,0].split(' ')]\n",
    "    L = []\n",
    "    for d in my_list:\n",
    "        if d=='-':\n",
    "            L.append(0)\n",
    "        elif d!='':\n",
    "            L.append(int(d))\n",
    "    init_data[r] = L\n",
    "    \n",
    "init_data \n",
    "    \n",
    "# [4, 4, 6, 8, 1, 2, 2, 8, 8, 8, 2, 2, 1, 2, 4, 2, 2, 8, 8]\n",
    "init_data"
   ]
  },
  {
   "cell_type": "code",
   "execution_count": 3,
   "id": "7f0fc362",
   "metadata": {},
   "outputs": [
    {
     "name": "stdout",
     "output_type": "stream",
     "text": [
      "10 10\n"
     ]
    }
   ],
   "source": [
    "data = {}\n",
    "counter = 0\n",
    "Nr , Nc= len(init_data[r]), N\n",
    "print(Nr,Nc)\n",
    "for r in range(Nc):\n",
    "    for c in range(Nr):\n",
    "        s= init_data[r][c]\n",
    "        counter+=1\n",
    "        data[counter,'x'] =  c+1\n",
    "        data[counter,'y'] =  Nr-r\n",
    "        data[counter,'v'] =  int(s) "
   ]
  },
  {
   "cell_type": "code",
   "execution_count": 4,
   "id": "812cd368",
   "metadata": {},
   "outputs": [
    {
     "name": "stdout",
     "output_type": "stream",
     "text": [
      "[3, 8, 12, 19, 21, 23, 28, 30, 34, 37, 45, 46, 55, 56, 64, 67, 71, 73, 78, 80, 82, 89, 93, 98] 24 100\n",
      "[6, 3, 4, 4, 4, 3, 3, 4, 2, 9, 2, 3, 3, 4, 2, 6, 6, 3, 4, 6, 6, 6, 4, 3]\n"
     ]
    }
   ],
   "source": [
    "def dist(D,i,j):\n",
    "    return ( np.sqrt((D[i,'x'] - D[j,'x'])**2 + (D[i,'y'] - D[j,'y'])**2))\n",
    "points = [c+1 for c in range(counter)]\n",
    "cpoints = [c for c in points if data[c,'v']>0]\n",
    "v_cpoints = [data[c,'v'] for c in points if data[c,'v']>0]\n",
    "\n",
    "print(cpoints, len(cpoints), sum(v_cpoints))\n",
    "connect = {}\n",
    "connect = { (c1,c2):dist(data,c1,c2) for c1 in points for c2 in points if c1!=c2}\n",
    "print(v_cpoints)"
   ]
  },
  {
   "cell_type": "code",
   "execution_count": 5,
   "id": "64db34a1",
   "metadata": {},
   "outputs": [],
   "source": [
    "def draw(L, LW=1):\n",
    "    if LW > 1:\n",
    "        LW =8\n",
    "        plt.plot([L[0][0],L[1][0]], [L[0][1],L[1][1]], lw=LW)\n",
    "    else:\n",
    "        plt.plot([L[0][0],L[1][0]], [L[0][1],L[1][1]], lw=2, c= 'k')"
   ]
  },
  {
   "cell_type": "code",
   "execution_count": 6,
   "id": "ae24a197",
   "metadata": {},
   "outputs": [],
   "source": [
    "model = AbstractModel()\n",
    "Np = len(points)\n",
    "model.i = RangeSet(Np)\n",
    "model.j = Set(initialize=model.i)\n",
    "model.c = Set(initialize = cpoints)\n",
    "\n",
    "model.U = Var(model.i,model.j,bounds=(0,1),initialize=0, within=Binary)\n",
    "model.flow = Var(model.c, model.i,model.j,bounds=(0,1),initialize=0, within=Reals)\n",
    "\n",
    "model.source = Var(model.c,bounds=(0,1),initialize=0, within=Reals)\n",
    "\n",
    "def rule_C1(model,i):\n",
    "    return sum( model.U[i,c] for c in model.c) == 1\n",
    "model.C1 = Constraint(model.i, rule=rule_C1)\n",
    "\n",
    "def rule_C2(model,c):\n",
    "    return sum( model.U[i,c] for i in model.i if data[i,'v']==0) ==  data[c,'v']-1\n",
    "model.C2 = Constraint(model.c, rule=rule_C2)\n",
    "\n",
    "def rule_C3(model,c,i):\n",
    "    if data[i,'v']==0 or i ==c:\n",
    "        if i==c:\n",
    "            return model.source[c] - model.U[i,c]/Np == sum( model.flow[c,i,j] for j in model.j if dist(data,i,j) ==1)-\\\n",
    "                                                    sum( model.flow[c,j,i] for j in model.j if dist(data,i,j) ==1)\n",
    "        elif data[i,'v']==0:\n",
    "             return                - model.U[i,c]/Np == sum( model.flow[c,i,j] for j in model.j if dist(data,i,j) ==1)-\\\n",
    "                                                    sum( model.flow[c,j,i] for j in model.j if dist(data,i,j) ==1)\n",
    "    else:\n",
    "        return Constraint.Skip \n",
    "model.C3 = Constraint(model.c,model.i, rule=rule_C3)\n",
    "\n",
    "def rule_C4A(model,c,i,j):\n",
    "    if  data[i,'v']==0 and data[j,'v']==0 and dist(data,i,j) ==1:\n",
    "        return model.flow[c,i,j] <= model.U[i,c] \n",
    "    else:\n",
    "        return Constraint.Skip \n",
    "model.C4A = Constraint(model.c,model.i,model.j, rule=rule_C4A)\n",
    "\n",
    "\n",
    "def rule_C4B(model,c,i,j):\n",
    "    if  data[i,'v']==0 and data[j,'v']==0 and dist(data,i,j) ==1:\n",
    "        return model.flow[c,i,j] <= model.U[j,c]\n",
    "    else:\n",
    "        return Constraint.Skip \n",
    "model.C4B = Constraint(model.c,model.i,model.j, rule=rule_C4B)\n",
    "\n",
    "\n",
    "def rule_OF(model):\n",
    "    return  sum(model.U[i,c] for i in model.i for c in model.c if (i,c) in connect) \n",
    "model.obj1 = Objective(rule=rule_OF, sense=minimize)\n",
    "instance = model.create_instance()  \n"
   ]
  },
  {
   "cell_type": "code",
   "execution_count": 7,
   "id": "54d10feb",
   "metadata": {},
   "outputs": [],
   "source": [
    "opt = SolverFactory('cbc')\n",
    "opt.options = {'sec': 1600, 'threads': 4, 'ratio': 0.4}"
   ]
  },
  {
   "cell_type": "code",
   "execution_count": 8,
   "id": "15ebe5ef",
   "metadata": {},
   "outputs": [
    {
     "name": "stdout",
     "output_type": "stream",
     "text": [
      "this is feasible and optimal and nothing more\n",
      "OF=  76.0\n"
     ]
    }
   ],
   "source": [
    "for c1 in instance.i:\n",
    "    for c2 in instance.i:\n",
    "        if data[c1,'v']==0 and data[c2,'v']==0:\n",
    "                #pass\n",
    "                instance.U[c1,c2].fix(0)\n",
    "for c1 in instance.c:\n",
    "    instance.U[c1,c1].fix(1)\n",
    "for c1 in instance.c:\n",
    "    for c2 in instance.i:\n",
    "        if data[c2,'v']==0 and dist(data,c1,c2)>data[c1,'v']:\n",
    "                #pass \n",
    "                instance.U[c2,c1].fix(0)\n",
    "#\"\"\"\n",
    "for c in instance.c:\n",
    "    for (i,j) in connect:\n",
    "        if i!=c and j!=c and data[i,'v'] + data[j,'v'] >0: \n",
    "            instance.flow[c,i,j].fix(0)\n",
    "\n",
    "#\"\"\"                \n",
    "results = opt.solve(instance)\n",
    "\n",
    "from pyomo.opt import SolverStatus, TerminationCondition\n",
    "if (results.solver.status == SolverStatus.ok) and (results.solver.termination_condition == TerminationCondition.optimal):\n",
    "     print (\"this is feasible and optimal and nothing more\")\n",
    "elif results.solver.termination_condition == TerminationCondition.infeasible:\n",
    "     print (\"do something about it? or exit?\")\n",
    "else:\n",
    "     print ('ERROR ' + str(results.solver))\n",
    "print('OF= ', value(instance.obj1) )"
   ]
  },
  {
   "cell_type": "code",
   "execution_count": 9,
   "id": "ff318940",
   "metadata": {},
   "outputs": [
    {
     "name": "stdout",
     "output_type": "stream",
     "text": [
      "3 6 [1, 2, 4, 5, 11]\n",
      "8 3 [6, 7]\n",
      "12 4 [13, 14, 22]\n",
      "19 4 [9, 10, 20]\n",
      "21 4 [31, 32, 41]\n",
      "23 3 [33, 43]\n",
      "28 3 [17, 18]\n",
      "30 4 [29, 40, 50]\n",
      "34 2 [24]\n",
      "37 9 [15, 16, 25, 26, 27, 38, 39, 49]\n",
      "45 2 [44]\n",
      "46 3 [35, 36]\n",
      "55 3 [53, 54]\n",
      "56 4 [47, 48, 57]\n",
      "64 2 [63]\n",
      "67 6 [58, 59, 60, 68, 69]\n",
      "71 6 [42, 51, 52, 61, 81]\n",
      "73 3 [62, 72]\n",
      "78 4 [66, 76, 77]\n",
      "80 6 [70, 79, 90, 99, 100]\n",
      "82 6 [65, 74, 75, 83, 84]\n",
      "89 6 [85, 86, 87, 88, 95]\n",
      "93 4 [91, 92, 94]\n",
      "98 3 [96, 97]\n"
     ]
    },
    {
     "data": {
      "image/png": "[encoded data removed]",
      "text/plain": [
       "<Figure size 648x648 with 1 Axes>"
      ]
     },
     "metadata": {
      "needs_background": "light"
     },
     "output_type": "display_data"
    }
   ],
   "source": [
    "plt.figure(figsize=(9,9))\n",
    "plt.xticks(range(1,1+Nr))\n",
    "plt.yticks(range(2,2+Nc))\n",
    "plt.xlim(0,Nr+1)\n",
    "plt.ylim(0,Nc+1)\n",
    "node_size = 1200\n",
    "plt.axis('off')\n",
    "c_index = 0 \n",
    "counter =1 \n",
    "for i in instance.i:\n",
    "    plt.text(data[i,'x']-0.21,data[i,'y']-0.05, s=f\"{i}\" , fontsize=14,c ='w', fontweight='bold')\n",
    "    if data[i,'v']==0:\n",
    "        plt.scatter(data[i,'x'],data[i,'y'], s=node_size,marker ='s' , c='grey', alpha=0.2)\n",
    "    else:\n",
    "        plt.scatter(data[i,'x'],data[i,'y'], s=node_size,marker ='s' , c=Kolors[c_index])\n",
    "        plt.text(data[i,'x']+0.2,data[i,'y'], s=f\"  {data[i,'v']}\", fontsize=11,c ='r', fontweight='bold')\n",
    "        c_index+=1\n",
    "\n",
    "plt.savefig(f'shikaku base .png', format='png', dpi=400)\n",
    "\n",
    "c_index = 0 \n",
    "\n",
    "for c in instance.c:\n",
    "    a= [j for j in instance.j if (j,c) in connect and value(instance.U[j,c])>0]\n",
    "    print(c,data[c,'v'],a)\n",
    "    for j in a+[c]:\n",
    "        plt.scatter(data[j,'x'],data[j,'y'], s=node_size,marker ='s' , c=Kolors[c_index])\n",
    "    counter+=1\n",
    "    c_index+=1\n",
    "\n",
    "plt.savefig(f'shikaku {counter} .png', format='png', dpi=200)\n",
    "\n",
    "plt.show()"
   ]
  },
  {
   "cell_type": "code",
   "execution_count": 10,
   "id": "46cb4be3",
   "metadata": {},
   "outputs": [
    {
     "data": {
      "image/png": "[encoded data removed]",
      "text/plain": [
       "<Figure size 576x576 with 1 Axes>"
      ]
     },
     "metadata": {
      "needs_background": "light"
     },
     "output_type": "display_data"
    }
   ],
   "source": [
    "plt.figure(figsize=(8,8))\n",
    "c_index = 0 \n",
    "for i in instance.i:\n",
    "    if data[i,'v']==0:\n",
    "        plt.scatter(data[i,'x'],data[i,'y'], s=600,marker ='s' , c='grey', alpha=0.5)\n",
    "    if data[i,'v']>0:\n",
    "        plt.text(data[i,'x']-0.15,data[i,'y']+0.3, s=f\"{i}-{data[i,'v']}\")\n",
    "        a= [j for j in instance.j if (j,i) in connect and value(instance.U[j,i])>0]\n",
    "        for j in [i]:\n",
    "            plt.scatter(data[j,'x'],data[j,'y'], s=600,marker ='s' , c=Kolors[c_index])\n",
    "        c_index+=1\n",
    "plt.xticks(range(1,1+Nr))\n",
    "plt.yticks(range(2,2+Nc))\n",
    "plt.axis('off')\n",
    "plt.show()"
   ]
  },
  {
   "cell_type": "markdown",
   "id": "6f193ff1",
   "metadata": {},
   "source": [
    "0  0 0 8 0 0\n",
    "1  0 0 0 0 0\n",
    "2  6 0 4 0 4\n",
    "3  0 0 0 0 0\n",
    "4  0 0 3 0 0"
   ]
  },
  {
   "cell_type": "code",
   "execution_count": null,
   "id": "9691cd39",
   "metadata": {},
   "outputs": [],
   "source": []
  },
  {
   "cell_type": "code",
   "execution_count": null,
   "id": "4b7a2c5c",
   "metadata": {},
   "outputs": [],
   "source": []
  }
 ],
 "metadata": {
  "kernelspec": {
   "display_name": "Python 3",
   "language": "python",
   "name": "python3"
  },
  "language_info": {
   "codemirror_mode": {
    "name": "ipython",
    "version": 3
   },
   "file_extension": ".py",
   "mimetype": "text/x-python",
   "name": "python",
   "nbconvert_exporter": "python",
   "pygments_lexer": "ipython3",
   "version": "3.6.15"
  }
 },
 "nbformat": 4,
 "nbformat_minor": 5
}
