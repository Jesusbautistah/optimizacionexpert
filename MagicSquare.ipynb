{
 "cells": [
  {
   "cell_type": "code",
   "execution_count": 1,
   "id": "0cb27f13",
   "metadata": {},
   "outputs": [],
   "source": [
    "from ortools.sat.python import cp_model"
   ]
  },
  {
   "cell_type": "code",
   "execution_count": 4,
   "id": "b5cbcb22",
   "metadata": {},
   "outputs": [
    {
     "name": "stdout",
     "output_type": "stream",
     "text": [
      "[2, 7, 6]\n",
      "[9, 5, 1]\n",
      "[4, 3, 8]\n",
      "-------------------------\n",
      "[4, 3, 8]\n",
      "[9, 5, 1]\n",
      "[2, 7, 6]\n",
      "-------------------------\n",
      "[6, 7, 2]\n",
      "[1, 5, 9]\n",
      "[8, 3, 4]\n",
      "-------------------------\n",
      "[8, 3, 4]\n",
      "[1, 5, 9]\n",
      "[6, 7, 2]\n",
      "-------------------------\n",
      "[4, 9, 2]\n",
      "[3, 5, 7]\n",
      "[8, 1, 6]\n",
      "-------------------------\n",
      "[2, 9, 4]\n",
      "[7, 5, 3]\n",
      "[6, 1, 8]\n",
      "-------------------------\n",
      "[6, 1, 8]\n",
      "[7, 5, 3]\n",
      "[2, 9, 4]\n",
      "-------------------------\n",
      "[8, 1, 6]\n",
      "[3, 5, 7]\n",
      "[4, 9, 2]\n",
      "-------------------------\n",
      "Status = OPTIMAL\n",
      "Number of solutions found: 8\n"
     ]
    }
   ],
   "source": [
    "class VarArraySolutionPrinter(cp_model.CpSolverSolutionCallback):\n",
    "    \"\"\"Print intermediate solutions.\"\"\"\n",
    "    def __init__(self, variables):\n",
    "        cp_model.CpSolverSolutionCallback.__init__(self)\n",
    "        self.__variables = variables\n",
    "        self.__solution_count = 0\n",
    "    def on_solution_callback(self):\n",
    "        self.__solution_count += 1\n",
    "        N = int(np.sqrt(len(self.__variables)))\n",
    "        for r in range(1,1+N):\n",
    "            print([self.Value(self.__variables[i,j]) for (i,j) in self.__variables if i==r])\n",
    "        print('-------------------------')\n",
    "    def solution_count(self):\n",
    "        return self.__solution_count\n",
    "\n",
    "def SearchForAllSolutionsSampleSat(n):\n",
    "    \"\"\"Showcases calling the solver to search for all solutions.\"\"\"\n",
    "    # Creates the model.\n",
    "    model = cp_model.CpModel()\n",
    "\n",
    "    # Creates the variables.\n",
    "    M = int(n*(n*n+1)/2)    \n",
    "    rows = range(1,n+1)\n",
    "    cols = range(1,n+1)\n",
    "    x = {(i,j):model.NewIntVar(1, n**2, f\"x_{i}_{j}\") for i in rows for j in cols}\n",
    "    \n",
    "    # Create the constraints.\n",
    "    model.AddAllDifferent([x[i,j] for (i,j) in x])\n",
    "    \n",
    "    for r in rows:\n",
    "        expressions = [x[r,c] for c in cols]\n",
    "        model.Add(sum(expressions) == M )\n",
    "        model.AddAllDifferent(expressions)\n",
    "\n",
    "        \n",
    "    for c in cols:\n",
    "        expressions = [x[r,c] for r in rows]\n",
    "        model.Add(sum(expressions) == M )\n",
    "        model.AddAllDifferent(expressions)\n",
    "    \n",
    "    expressions_d = [x[r,c] for r in rows for c in cols if r==c]\n",
    "    model.Add(sum(expressions_d) == M ) \n",
    "    \n",
    "    expressions_ad = [x[r,c] for r in rows for c in cols if r==n-c+1]\n",
    "    model.Add(sum(expressions_ad) == M ) \n",
    "\n",
    "\n",
    "    # Create a solver and solve.\n",
    "    solver = cp_model.CpSolver()\n",
    "    solution_printer = VarArraySolutionPrinter(x)\n",
    "    # Enumerate all solutions.\n",
    "    solver.parameters.enumerate_all_solutions = True\n",
    "    # Solve.\n",
    "    \n",
    "    status = solver.Solve(model, solution_printer)\n",
    "    #status = solver.Solve(model)\n",
    "\n",
    "    print(f\"Status = {solver.StatusName(status)}\")\n",
    "    print(f\"Number of solutions found: {solution_printer.solution_count()}\")\n",
    "\n",
    "\n",
    "SearchForAllSolutionsSampleSat(3)"
   ]
  },
  {
   "cell_type": "code",
   "execution_count": null,
   "id": "a9fd84df",
   "metadata": {},
   "outputs": [],
   "source": []
  },
  {
   "cell_type": "code",
   "execution_count": null,
   "id": "ec05a501",
   "metadata": {},
   "outputs": [],
   "source": []
  },
  {
   "cell_type": "code",
   "execution_count": null,
   "id": "bc58bd51",
   "metadata": {},
   "outputs": [],
   "source": []
  },
  {
   "cell_type": "code",
   "execution_count": null,
   "id": "bfd72d20",
   "metadata": {},
   "outputs": [],
   "source": []
  }
 ],
 "metadata": {
  "kernelspec": {
   "display_name": "Python 3",
   "language": "python",
   "name": "python3"
  },
  "language_info": {
   "codemirror_mode": {
    "name": "ipython",
    "version": 3
   },
   "file_extension": ".py",
   "mimetype": "text/x-python",
   "name": "python",
   "nbconvert_exporter": "python",
   "pygments_lexer": "ipython3",
   "version": "3.6.15"
  }
 },
 "nbformat": 4,
 "nbformat_minor": 5
}
