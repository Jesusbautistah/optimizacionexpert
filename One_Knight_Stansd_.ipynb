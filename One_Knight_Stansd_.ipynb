{
  "cells": [
    {
      "cell_type": "markdown",
      "metadata": {
        "id": "view-in-github",
        "colab_type": "text"
      },
      "source": [
        "<a href=\"https://colab.research.google.com/github/OptimizationExpert/Pyomo/blob/main/One_Knight_Stansd_.ipynb\" target=\"_parent\"><img src=\"https://colab.research.google.com/assets/colab-badge.svg\" alt=\"Open In Colab\"/></a>"
      ]
    },
    {
      "cell_type": "markdown",
      "source": [
        "Developed by Alireza.soroudi@ gmail.com\n",
        "\n",
        "\n",
        "[Linkedin news letter: ](\n",
        "https://www.linkedin.com/newsletters/optimization-in-open-source-6874020019009859585/ )"
      ],
      "metadata": {
        "id": "TWrthhIIwU6Q"
      }
    },
    {
      "cell_type": "code",
      "execution_count": 1,
      "metadata": {
        "colab": {
          "base_uri": "https://localhost:8080/"
        },
        "id": "Uo8I7CclVVtJ",
        "outputId": "6c7413fc-128c-4f34-c684-3916aac2b0f1"
      },
      "outputs": [
        {
          "output_type": "stream",
          "name": "stdout",
          "text": [
            "Collecting pyomo\n",
            "  Downloading Pyomo-6.7.0-cp310-cp310-manylinux_2_17_x86_64.manylinux2014_x86_64.whl (12.5 MB)\n",
            "\u001b[2K     \u001b[90m━━━━━━━━━━━━━━━━━━━━━━━━━━━━━━━━━━━━━━━━\u001b[0m \u001b[32m12.5/12.5 MB\u001b[0m \u001b[31m67.2 MB/s\u001b[0m eta \u001b[36m0:00:00\u001b[0m\n",
            "\u001b[?25hCollecting ply (from pyomo)\n",
            "  Downloading ply-3.11-py2.py3-none-any.whl (49 kB)\n",
            "\u001b[2K     \u001b[90m━━━━━━━━━━━━━━━━━━━━━━━━━━━━━━━━━━━━━━━━\u001b[0m \u001b[32m49.6/49.6 kB\u001b[0m \u001b[31m7.7 MB/s\u001b[0m eta \u001b[36m0:00:00\u001b[0m\n",
            "\u001b[?25hInstalling collected packages: ply, pyomo\n",
            "Successfully installed ply-3.11 pyomo-6.7.0\n"
          ]
        }
      ],
      "source": [
        "!pip install pyomo\n",
        "from pyomo.environ import *\n",
        "import matplotlib.pyplot as plt\n",
        "import numpy as np\n",
        "import random\n",
        "import pandas as pd"
      ]
    },
    {
      "cell_type": "code",
      "source": [
        "counter =0\n",
        "dic ={}\n",
        "banned = [1,2,7, 5,6,12,15,16, 19,25,26, 29,30,24]\n",
        "all_nodes= [i for i in range(1,31)]\n",
        "#banned =random.sample(all_nodes, 14)\n",
        "\n",
        "plt.figure(figsize=(4,4))\n",
        "for r in range(1,6):\n",
        "  for c in range(1,7):\n",
        "    counter+=1\n",
        "    dic[counter,'x']=c\n",
        "    dic[counter,'y']=r\n",
        "    if counter in banned:\n",
        "      KOL = 'g'\n",
        "    else:\n",
        "      KOL = 'grey'\n",
        "\n",
        "    plt.scatter(c,r,s=900, marker='s', c= KOL)\n",
        "    plt.text(c-0.1,r,s=str(counter), c= 'w', fontweight='bold')\n",
        "plt.axis('off')\n",
        "plt.tight_layout()\n",
        "\n",
        "\n",
        "\n",
        "nodes = [n for n in range(1,1+counter)]\n",
        "change = [(1,2),(1,-2),(-1,2),(-1,-2)]\n",
        "change += [ (ch[1],ch[0]) for ch in change]\n",
        "\n",
        "allowed ={}\n",
        "\n",
        "for n in nodes:\n",
        "  if n not in banned:\n",
        "\n",
        "    x0,y0 = dic[n,'x'], dic[n,'y']\n",
        "    allowed[n] = [m for m in nodes if m not in banned and (dic[m,'x']-dic[n,'x'], dic[m,'y']-dic[n,'y']) in change]\n",
        "\n",
        "\n",
        "allowed"
      ],
      "metadata": {
        "id": "pj8vN6ia1FTd",
        "colab": {
          "base_uri": "https://localhost:8080/",
          "height": 685
        },
        "outputId": "246ccec4-ccf2-4b1c-d2e6-052e95c4ccfc"
      },
      "execution_count": 2,
      "outputs": [
        {
          "output_type": "execute_result",
          "data": {
            "text/plain": [
              "{3: [11, 14],\n",
              " 4: [8, 17],\n",
              " 8: [4, 21],\n",
              " 9: [13, 17, 20, 22],\n",
              " 10: [14, 18, 21, 23],\n",
              " 11: [3, 22],\n",
              " 13: [9, 21],\n",
              " 14: [3, 10, 22, 27],\n",
              " 17: [4, 9, 21, 28],\n",
              " 18: [10, 22],\n",
              " 20: [9, 28],\n",
              " 21: [8, 10, 13, 17],\n",
              " 22: [9, 11, 14, 18],\n",
              " 23: [10, 27],\n",
              " 27: [14, 23],\n",
              " 28: [17, 20]}"
            ]
          },
          "metadata": {},
          "execution_count": 2
        },
        {
          "output_type": "display_data",
          "data": {
            "text/plain": [
              "<Figure size 400x400 with 1 Axes>"
            ],
            "image/png": "[encoded data removed]"
          },
          "metadata": {}
        }
      ]
    },
    {
      "cell_type": "code",
      "source": [
        "start_node = 13\n",
        "if start_node in banned:\n",
        "  a = [n for n in all_nodes if n not in banned]\n",
        "  start_node = random.sample(a,1)\n",
        "  start_node =start_node[0]"
      ],
      "metadata": {
        "id": "8U_2lklY2xUD"
      },
      "execution_count": 3,
      "outputs": []
    },
    {
      "cell_type": "code",
      "execution_count": 4,
      "metadata": {
        "id": "gyBk8eDaVVtO"
      },
      "outputs": [],
      "source": [
        "eligible_nodes = [n for n in allowed.keys()]\n",
        "\n",
        "model = AbstractModel()\n",
        "model.i = Set(initialize = eligible_nodes)\n",
        "model.j = Set(initialize=model.i)\n",
        "\n",
        "model.flow = Var(model.i,model.j, bounds=(0,1), within=Reals)\n",
        "model.U = Var(model.i,model.j, within=Binary)\n",
        "model.include = Var(model.i, within=Binary)\n",
        "\n",
        "model.source = Var(model.i, within=NonNegativeReals)\n",
        "\n",
        "def rule_C1(model,i):\n",
        "  return model.source[i]- model.include[i]/100 ==  sum(model.flow[i,j]-model.flow[j,i] for j in model.j if j in allowed[i] )\n",
        "model.C1=Constraint(model.i, rule=rule_C1)\n",
        "\n",
        "def rule_C2(model,i,j):\n",
        "  if i!=j:\n",
        "    return model.flow[i,j] <= model.U[i,j]\n",
        "  else:\n",
        "    return model.flow[i,j] == 0\n",
        "model.C2=Constraint(model.i, model.j, rule=rule_C2)\n",
        "\n",
        "def rule_C3(model,i):\n",
        "  return sum(model.U[i,j] for j in model.j if j in allowed[i] )<= 1\n",
        "model.C3=Constraint(model.i, rule=rule_C3)\n",
        "\n",
        "def rule_C4(model,i):\n",
        "  if i != start_node:\n",
        "    return sum(model.U[j,i] for j in model.j if i in allowed[j] )<= 1\n",
        "  else:\n",
        "    return sum(model.U[j,i] for j in model.j if i in allowed[j] )== 0\n",
        "model.C4=Constraint(model.i, rule=rule_C4)\n",
        "\n",
        "\n",
        "def rule_OF(model):\n",
        "    return  sum(model.include[i] for i in model.i )\n",
        "model.obj1 = Objective(rule=rule_OF, sense=maximize)"
      ]
    },
    {
      "cell_type": "code",
      "source": [
        "!apt-get install -y -qq coinor-cbc"
      ],
      "metadata": {
        "id": "fIW8cYoTXmXw",
        "colab": {
          "base_uri": "https://localhost:8080/"
        },
        "outputId": "c4caaa8c-3180-4dcf-832f-96961abc4966"
      },
      "execution_count": 5,
      "outputs": [
        {
          "output_type": "stream",
          "name": "stdout",
          "text": [
            "Selecting previously unselected package coinor-libcoinutils3v5:amd64.\n",
            "(Reading database ... 121749 files and directories currently installed.)\n",
            "Preparing to unpack .../0-coinor-libcoinutils3v5_2.11.4+repack1-2_amd64.deb ...\n",
            "Unpacking coinor-libcoinutils3v5:amd64 (2.11.4+repack1-2) ...\n",
            "Selecting previously unselected package coinor-libosi1v5:amd64.\n",
            "Preparing to unpack .../1-coinor-libosi1v5_0.108.6+repack1-2_amd64.deb ...\n",
            "Unpacking coinor-libosi1v5:amd64 (0.108.6+repack1-2) ...\n",
            "Selecting previously unselected package coinor-libclp1.\n",
            "Preparing to unpack .../2-coinor-libclp1_1.17.5+repack1-1_amd64.deb ...\n",
            "Unpacking coinor-libclp1 (1.17.5+repack1-1) ...\n",
            "Selecting previously unselected package coinor-libcgl1:amd64.\n",
            "Preparing to unpack .../3-coinor-libcgl1_0.60.3+repack1-3_amd64.deb ...\n",
            "Unpacking coinor-libcgl1:amd64 (0.60.3+repack1-3) ...\n",
            "Selecting previously unselected package coinor-libcbc3:amd64.\n",
            "Preparing to unpack .../4-coinor-libcbc3_2.10.7+ds1-1_amd64.deb ...\n",
            "Unpacking coinor-libcbc3:amd64 (2.10.7+ds1-1) ...\n",
            "Selecting previously unselected package coinor-cbc.\n",
            "Preparing to unpack .../5-coinor-cbc_2.10.7+ds1-1_amd64.deb ...\n",
            "Unpacking coinor-cbc (2.10.7+ds1-1) ...\n",
            "Setting up coinor-libcoinutils3v5:amd64 (2.11.4+repack1-2) ...\n",
            "Setting up coinor-libosi1v5:amd64 (0.108.6+repack1-2) ...\n",
            "Setting up coinor-libclp1 (1.17.5+repack1-1) ...\n",
            "Setting up coinor-libcgl1:amd64 (0.60.3+repack1-3) ...\n",
            "Setting up coinor-libcbc3:amd64 (2.10.7+ds1-1) ...\n",
            "Setting up coinor-cbc (2.10.7+ds1-1) ...\n",
            "Processing triggers for man-db (2.10.2-1) ...\n",
            "Processing triggers for libc-bin (2.35-0ubuntu3.4) ...\n",
            "/sbin/ldconfig.real: /usr/local/lib/libtbbmalloc.so.2 is not a symbolic link\n",
            "\n",
            "/sbin/ldconfig.real: /usr/local/lib/libtbbmalloc_proxy.so.2 is not a symbolic link\n",
            "\n",
            "/sbin/ldconfig.real: /usr/local/lib/libtbb.so.12 is not a symbolic link\n",
            "\n",
            "/sbin/ldconfig.real: /usr/local/lib/libtbbbind.so.3 is not a symbolic link\n",
            "\n",
            "/sbin/ldconfig.real: /usr/local/lib/libtbbbind_2_0.so.3 is not a symbolic link\n",
            "\n",
            "/sbin/ldconfig.real: /usr/local/lib/libtbbbind_2_5.so.3 is not a symbolic link\n",
            "\n"
          ]
        }
      ]
    },
    {
      "cell_type": "code",
      "execution_count": 6,
      "metadata": {
        "id": "oNDYWsmAVVtP"
      },
      "outputs": [],
      "source": [
        "opt = SolverFactory('cbc', executable='/usr/bin/cbc')\n",
        "!wget -N -q \"https://ampl.com/dl/open/ipopt/ipopt-linux64.zip\"\n",
        "\n",
        "instance = model.create_instance()\n",
        "\n",
        "for i in instance.i:\n",
        "  if i!=start_node:\n",
        "    instance.source[i].fix(0)"
      ]
    },
    {
      "cell_type": "code",
      "execution_count": 7,
      "metadata": {
        "id": "GeDGa-H8VVtP",
        "colab": {
          "base_uri": "https://localhost:8080/"
        },
        "outputId": "68e824dd-53c4-45dc-dcd2-c5e9a373aa49"
      },
      "outputs": [
        {
          "output_type": "stream",
          "name": "stdout",
          "text": [
            "this is feasible and optimal and nothing more\n",
            "OF=  16.0\n"
          ]
        }
      ],
      "source": [
        "results = opt.solve(instance) # solves and updates instance\n",
        "from pyomo.opt import SolverStatus, TerminationCondition\n",
        "if (results.solver.status == SolverStatus.ok) and (results.solver.termination_condition == TerminationCondition.optimal):\n",
        "     print (\"this is feasible and optimal and nothing more\")\n",
        "elif results.solver.termination_condition == TerminationCondition.infeasible:\n",
        "     print (\"do something about it? or exit?\")\n",
        "else:\n",
        "     print ('ERROR ' + str(results.solver))\n",
        "print('OF= ', value(instance.obj1) )"
      ]
    },
    {
      "cell_type": "code",
      "source": [
        "plt.figure(figsize=(4,4))\n",
        "for counter in nodes:\n",
        "  if counter not in banned:\n",
        "    KOLOR = 'y'\n",
        "  else:\n",
        "    KOLOR = 'grey'\n",
        "  x = dic[counter,'x']\n",
        "  y = dic[counter,'y']\n",
        "  plt.scatter(x,y,s=900, marker='s', c= KOLOR)\n",
        "  plt.text(x-0.1,y,s=str(counter), c= 'w', fontweight='bold')\n",
        "plt.tight_layout()\n",
        "plt.xlim(0,7)\n",
        "plt.ylim(0,6)\n",
        "plt.axis('off')\n",
        "continue_move = True\n",
        "fnode = start_node\n",
        "counter = 0\n",
        "for i in instance.i:\n",
        "  for j in instance.j:\n",
        "    if i!=j and value(instance.flow[i,j])>0 :\n",
        "      x0,y0 = dic[i,'x'],dic[i,'y']\n",
        "      x1,y1 = dic[j,'x'],dic[j,'y']\n",
        "      plt.plot([x0,x1],[y0,y1], c='k', lw=2)\n",
        "      counter +=1\n"
      ],
      "metadata": {
        "colab": {
          "base_uri": "https://localhost:8080/",
          "height": 643
        },
        "id": "0-k3emaFaeJW",
        "outputId": "3859d053-ff24-4a6b-d35e-952ef7529d20"
      },
      "execution_count": 9,
      "outputs": [
        {
          "output_type": "stream",
          "name": "stdout",
          "text": [
            "3 14 0\n",
            "4 17 1\n",
            "8 4 2\n",
            "9 22 3\n",
            "10 18 4\n",
            "11 3 5\n",
            "13 21 6\n",
            "14 27 7\n",
            "17 28 8\n",
            "20 9 9\n",
            "21 8 10\n",
            "22 11 11\n",
            "23 10 12\n",
            "27 23 13\n",
            "28 20 14\n"
          ]
        },
        {
          "output_type": "display_data",
          "data": {
            "text/plain": [
              "<Figure size 400x400 with 1 Axes>"
            ],
            "image/png": "[encoded data removed]"
          },
          "metadata": {}
        }
      ]
    }
  ],
  "metadata": {
    "kernelspec": {
      "display_name": "Python 3",
      "language": "python",
      "name": "python3"
    },
    "language_info": {
      "codemirror_mode": {
        "name": "ipython",
        "version": 3
      },
      "file_extension": ".py",
      "mimetype": "text/x-python",
      "name": "python",
      "nbconvert_exporter": "python",
      "pygments_lexer": "ipython3",
      "version": "3.7.12"
    },
    "colab": {
      "provenance": [],
      "include_colab_link": true
    }
  },
  "nbformat": 4,
  "nbformat_minor": 0
}