{
  "cells": [
    {
      "cell_type": "markdown",
      "metadata": {
        "id": "view-in-github",
        "colab_type": "text"
      },
      "source": [
        "<a href=\"https://colab.research.google.com/github/OptimizationExpert/Pyomo/blob/main/2d_no_overlap.ipynb\" target=\"_parent\"><img src=\"https://colab.research.google.com/assets/colab-badge.svg\" alt=\"Open In Colab\"/></a>"
      ]
    },
    {
      "cell_type": "markdown",
      "metadata": {
        "id": "VvJL0bOSIm84"
      },
      "source": [
        "Developed by Alireza Soroudi\n",
        "alireza.soroudi@gmail.com\n",
        "\n",
        "Linkedin News letter : https://www.linkedin.com/newsletters/optimization-in-open-source-6874020019009859585/\n",
        "\n",
        "Git hub: https://github.com/OptimizationExpert/Pyomo\n",
        "\n",
        "\n"
      ]
    },
    {
      "cell_type": "code",
      "execution_count": 1,
      "metadata": {
        "colab": {
          "base_uri": "https://localhost:8080/"
        },
        "id": "w_3yuwV8XtMF",
        "outputId": "e3cb38b6-c273-4a36-dfc6-b956579b9989"
      },
      "outputs": [
        {
          "output_type": "stream",
          "name": "stdout",
          "text": [
            "Collecting ortools\n",
            "  Downloading ortools-9.9.3963-cp310-cp310-manylinux_2_17_x86_64.manylinux2014_x86_64.whl (24.8 MB)\n",
            "\u001b[2K     \u001b[90m━━━━━━━━━━━━━━━━━━━━━━━━━━━━━━━━━━━━━━━━\u001b[0m \u001b[32m24.8/24.8 MB\u001b[0m \u001b[31m22.5 MB/s\u001b[0m eta \u001b[36m0:00:00\u001b[0m\n",
            "\u001b[?25hCollecting absl-py>=2.0.0 (from ortools)\n",
            "  Downloading absl_py-2.1.0-py3-none-any.whl (133 kB)\n",
            "\u001b[2K     \u001b[90m━━━━━━━━━━━━━━━━━━━━━━━━━━━━━━━━━━━━━━━━\u001b[0m \u001b[32m133.7/133.7 kB\u001b[0m \u001b[31m10.2 MB/s\u001b[0m eta \u001b[36m0:00:00\u001b[0m\n",
            "\u001b[?25hRequirement already satisfied: numpy>=1.13.3 in /usr/local/lib/python3.10/dist-packages (from ortools) (1.25.2)\n",
            "Requirement already satisfied: pandas>=2.0.0 in /usr/local/lib/python3.10/dist-packages (from ortools) (2.0.3)\n",
            "Collecting protobuf>=4.25.3 (from ortools)\n",
            "  Downloading protobuf-5.26.1-cp37-abi3-manylinux2014_x86_64.whl (302 kB)\n",
            "\u001b[2K     \u001b[90m━━━━━━━━━━━━━━━━━━━━━━━━━━━━━━━━━━━━━━━━\u001b[0m \u001b[32m302.8/302.8 kB\u001b[0m \u001b[31m11.5 MB/s\u001b[0m eta \u001b[36m0:00:00\u001b[0m\n",
            "\u001b[?25hCollecting immutabledict>=3.0.0 (from ortools)\n",
            "  Downloading immutabledict-4.2.0-py3-none-any.whl (4.7 kB)\n",
            "Requirement already satisfied: python-dateutil>=2.8.2 in /usr/local/lib/python3.10/dist-packages (from pandas>=2.0.0->ortools) (2.8.2)\n",
            "Requirement already satisfied: pytz>=2020.1 in /usr/local/lib/python3.10/dist-packages (from pandas>=2.0.0->ortools) (2023.4)\n",
            "Requirement already satisfied: tzdata>=2022.1 in /usr/local/lib/python3.10/dist-packages (from pandas>=2.0.0->ortools) (2024.1)\n",
            "Requirement already satisfied: six>=1.5 in /usr/local/lib/python3.10/dist-packages (from python-dateutil>=2.8.2->pandas>=2.0.0->ortools) (1.16.0)\n",
            "Installing collected packages: protobuf, immutabledict, absl-py, ortools\n",
            "  Attempting uninstall: protobuf\n",
            "    Found existing installation: protobuf 3.20.3\n",
            "    Uninstalling protobuf-3.20.3:\n",
            "      Successfully uninstalled protobuf-3.20.3\n",
            "  Attempting uninstall: absl-py\n",
            "    Found existing installation: absl-py 1.4.0\n",
            "    Uninstalling absl-py-1.4.0:\n",
            "      Successfully uninstalled absl-py-1.4.0\n",
            "\u001b[31mERROR: pip's dependency resolver does not currently take into account all the packages that are installed. This behaviour is the source of the following dependency conflicts.\n",
            "google-ai-generativelanguage 0.6.2 requires protobuf!=3.20.0,!=3.20.1,!=4.21.0,!=4.21.1,!=4.21.2,!=4.21.3,!=4.21.4,!=4.21.5,<5.0.0dev,>=3.19.5, but you have protobuf 5.26.1 which is incompatible.\n",
            "google-api-core 2.11.1 requires protobuf!=3.20.0,!=3.20.1,!=4.21.0,!=4.21.1,!=4.21.2,!=4.21.3,!=4.21.4,!=4.21.5,<5.0.0.dev0,>=3.19.5, but you have protobuf 5.26.1 which is incompatible.\n",
            "google-cloud-aiplatform 1.48.0 requires protobuf!=3.20.0,!=3.20.1,!=4.21.0,!=4.21.1,!=4.21.2,!=4.21.3,!=4.21.4,!=4.21.5,<5.0.0dev,>=3.19.5, but you have protobuf 5.26.1 which is incompatible.\n",
            "google-cloud-bigquery-connection 1.12.1 requires protobuf!=3.20.0,!=3.20.1,!=4.21.0,!=4.21.1,!=4.21.2,!=4.21.3,!=4.21.4,!=4.21.5,<5.0.0dev,>=3.19.5, but you have protobuf 5.26.1 which is incompatible.\n",
            "google-cloud-bigquery-storage 2.24.0 requires protobuf!=3.20.0,!=3.20.1,!=4.21.0,!=4.21.1,!=4.21.2,!=4.21.3,!=4.21.4,!=4.21.5,<5.0.0dev,>=3.19.5, but you have protobuf 5.26.1 which is incompatible.\n",
            "google-cloud-datastore 2.15.2 requires protobuf!=3.20.0,!=3.20.1,!=4.21.0,!=4.21.1,!=4.21.2,!=4.21.3,!=4.21.4,!=4.21.5,<5.0.0dev,>=3.19.5, but you have protobuf 5.26.1 which is incompatible.\n",
            "google-cloud-firestore 2.11.1 requires protobuf!=3.20.0,!=3.20.1,!=4.21.0,!=4.21.1,!=4.21.2,!=4.21.3,!=4.21.4,!=4.21.5,<5.0.0dev,>=3.19.5, but you have protobuf 5.26.1 which is incompatible.\n",
            "google-cloud-functions 1.13.3 requires protobuf!=3.20.0,!=3.20.1,!=4.21.0,!=4.21.1,!=4.21.2,!=4.21.3,!=4.21.4,!=4.21.5,<5.0.0dev,>=3.19.5, but you have protobuf 5.26.1 which is incompatible.\n",
            "google-cloud-iam 2.15.0 requires protobuf!=3.20.0,!=3.20.1,!=4.21.0,!=4.21.1,!=4.21.2,!=4.21.3,!=4.21.4,!=4.21.5,<5.0.0dev,>=3.19.5, but you have protobuf 5.26.1 which is incompatible.\n",
            "google-cloud-language 2.13.3 requires protobuf!=3.20.0,!=3.20.1,!=4.21.0,!=4.21.1,!=4.21.2,!=4.21.3,!=4.21.4,!=4.21.5,<5.0.0dev,>=3.19.5, but you have protobuf 5.26.1 which is incompatible.\n",
            "google-cloud-resource-manager 1.12.3 requires protobuf!=3.20.0,!=3.20.1,!=4.21.0,!=4.21.1,!=4.21.2,!=4.21.3,!=4.21.4,!=4.21.5,<5.0.0dev,>=3.19.5, but you have protobuf 5.26.1 which is incompatible.\n",
            "google-cloud-translate 3.11.3 requires protobuf!=3.20.0,!=3.20.1,!=4.21.0,!=4.21.1,!=4.21.2,!=4.21.3,!=4.21.4,!=4.21.5,<5.0.0dev,>=3.19.5, but you have protobuf 5.26.1 which is incompatible.\n",
            "googleapis-common-protos 1.63.0 requires protobuf!=3.20.0,!=3.20.1,!=4.21.1,!=4.21.2,!=4.21.3,!=4.21.4,!=4.21.5,<5.0.0.dev0,>=3.19.5, but you have protobuf 5.26.1 which is incompatible.\n",
            "grpc-google-iam-v1 0.13.0 requires protobuf!=3.20.0,!=3.20.1,!=4.21.1,!=4.21.2,!=4.21.3,!=4.21.4,!=4.21.5,<5.0.0dev,>=3.19.5, but you have protobuf 5.26.1 which is incompatible.\n",
            "proto-plus 1.23.0 requires protobuf<5.0.0dev,>=3.19.0, but you have protobuf 5.26.1 which is incompatible.\n",
            "tensorflow 2.15.0 requires protobuf!=4.21.0,!=4.21.1,!=4.21.2,!=4.21.3,!=4.21.4,!=4.21.5,<5.0.0dev,>=3.20.3, but you have protobuf 5.26.1 which is incompatible.\n",
            "tensorflow-metadata 1.15.0 requires protobuf<4.21,>=3.20.3; python_version < \"3.11\", but you have protobuf 5.26.1 which is incompatible.\u001b[0m\u001b[31m\n",
            "\u001b[0mSuccessfully installed absl-py-2.1.0 immutabledict-4.2.0 ortools-9.9.3963 protobuf-5.26.1\n"
          ]
        }
      ],
      "source": [
        "!pip install ortools\n",
        "from ortools.sat.python import cp_model # CP-SAT solver\n",
        "import numpy as np\n",
        "from random import randint\n",
        "import random\n",
        "from math import ceil\n",
        "import pandas as pd\n",
        "import matplotlib.pyplot as plt # Data visualization\n",
        "from matplotlib.patches import Rectangle\n",
        "from google.colab import files\n",
        "\n",
        "import matplotlib.patches as patches\n",
        "\n",
        "#from google.colab import drive\n",
        "#drive.mount('/content/drive')"
      ]
    },
    {
      "cell_type": "code",
      "source": [
        "data = {}\n",
        "N = 10\n",
        "rects = range(N)\n",
        "\n",
        "for rec in rects:\n",
        "  data[rec,'l']= random.randint(1,7)\n",
        "  data[rec,'w']= random.randint(1,5)\n",
        "\n",
        "\n",
        "data"
      ],
      "metadata": {
        "id": "zp3BLJ8Jxjxh",
        "colab": {
          "base_uri": "https://localhost:8080/"
        },
        "outputId": "df75e086-91a4-4ab4-832b-815cde819ce4"
      },
      "execution_count": 4,
      "outputs": [
        {
          "output_type": "execute_result",
          "data": {
            "text/plain": [
              "{(0, 'l'): 7,\n",
              " (0, 'w'): 1,\n",
              " (1, 'l'): 5,\n",
              " (1, 'w'): 2,\n",
              " (2, 'l'): 2,\n",
              " (2, 'w'): 3,\n",
              " (3, 'l'): 3,\n",
              " (3, 'w'): 2,\n",
              " (4, 'l'): 3,\n",
              " (4, 'w'): 5,\n",
              " (5, 'l'): 7,\n",
              " (5, 'w'): 4,\n",
              " (6, 'l'): 6,\n",
              " (6, 'w'): 4,\n",
              " (7, 'l'): 2,\n",
              " (7, 'w'): 4,\n",
              " (8, 'l'): 1,\n",
              " (8, 'w'): 2,\n",
              " (9, 'l'): 2,\n",
              " (9, 'w'): 4}"
            ]
          },
          "metadata": {},
          "execution_count": 4
        }
      ]
    },
    {
      "cell_type": "markdown",
      "source": [
        "{(0, 'l'): 7,\n",
        " (0, 'w'): 1,\n",
        " (1, 'l'): 5,\n",
        " (1, 'w'): 2,\n",
        " (2, 'l'): 2,\n",
        " (2, 'w'): 3,\n",
        " (3, 'l'): 3,\n",
        " (3, 'w'): 2,\n",
        " (4, 'l'): 3,\n",
        " (4, 'w'): 5,\n",
        " (5, 'l'): 7,\n",
        " (5, 'w'): 4,\n",
        " (6, 'l'): 6,\n",
        " (6, 'w'): 4,\n",
        " (7, 'l'): 2,\n",
        " (7, 'w'): 4,\n",
        " (8, 'l'): 1,\n",
        " (8, 'w'): 2,\n",
        " (9, 'l'): 2,\n",
        " (9, 'w'): 4}"
      ],
      "metadata": {
        "id": "mou99sP2yjCZ"
      }
    },
    {
      "cell_type": "code",
      "execution_count": 24,
      "metadata": {
        "id": "AxZSoOv2-NEu"
      },
      "outputs": [],
      "source": [
        "KOLORS = [\"#1f77b4\", \"#ff7f0e\", \"#2ca02c\", \"#d62728\", \"#9467bd\",\n",
        "            \"#8c564b\", \"#e377c2\", \"#7f7f7f\", \"#bcbd22\", \"#17becf\",\n",
        "            \"#aec7e8\", \"#ffbb78\", \"#98df8a\", \"#ff9896\", \"#c5b0d5\",\n",
        "            \"#c49c94\", \"#f7b6d2\", \"#c7c7c7\", \"#dbdb8d\", \"#9edae5\",\n",
        "            \"#8c6d31\", \"#9c9ede\", \"#637939\", \"#e7cb94\", \"#b5cf6b\",\n",
        "            \"#cedb9c\", \"#c7c7c7\", \"#bd9e39\", \"#e7969c\", \"#7b4173\"]"
      ]
    },
    {
      "cell_type": "code",
      "source": [
        "\n"
      ],
      "metadata": {
        "id": "lqw1iTmuft6T"
      },
      "execution_count": 6,
      "outputs": []
    },
    {
      "cell_type": "code",
      "source": [
        "model = cp_model.CpModel()\n",
        "solver = cp_model.CpSolver()\n",
        "Lmax = 20\n",
        "Wmax = 10\n",
        "x = {i:model.NewIntVar(0,Lmax-data[i,'l']  , f\"X_{i}\") for i in rects}\n",
        "y = {i:model.NewIntVar(0,Wmax-data[i,'w']  , f\"Y_{i}\") for i in rects}\n",
        "\n",
        "\n",
        "X_list = [model.NewIntervalVar(x[i],data[i,'l'] , x[i]+data[i,'l'], f\"Xinterval_{i}\") for i in rects]\n",
        "Y_list = [model.NewIntervalVar(y[i],data[i,'w'] , y[i]+data[i,'w'], f\"Yinterval_{i}\") for i in rects]\n",
        "model.AddNoOverlap2D(X_list, Y_list)\n",
        "\n",
        "status = solver.Solve(model)\n",
        "if status == cp_model.FEASIBLE:\n",
        "  print(\"feasible\")\n",
        "elif status == cp_model.OPTIMAL:\n",
        "  print(\"optimal\")\n",
        "elif status == cp_model.INFEASIBLE:\n",
        "  print(\"INFEASIBLE\")\n",
        "elif status == cp_model.UNKNOWN:\n",
        "  print(\"UNKNOWN\")\n",
        "\n",
        "\n"
      ],
      "metadata": {
        "colab": {
          "base_uri": "https://localhost:8080/"
        },
        "id": "1u74WJiO3-3W",
        "outputId": "2f0ba8b4-886f-4804-d8ed-d7f749e6aa38"
      },
      "execution_count": 21,
      "outputs": [
        {
          "output_type": "stream",
          "name": "stdout",
          "text": [
            "optimal\n"
          ]
        }
      ]
    },
    {
      "cell_type": "code",
      "source": [
        "import matplotlib.pyplot as plt # Data visualization\n",
        "from matplotlib.patches import Rectangle\n",
        "plt.figure(figsize=(8,6))\n",
        "\n",
        "for i in rects:\n",
        "  x0,y0 = solver.value(x[i]), solver.value(y[i])\n",
        "  plt.gca().add_patch(Rectangle((x0,y0), data[i,'l'],data[i,'w'],linewidth=1,edgecolor='k',facecolor=KOLORS[i], alpha =0.2))\n",
        "  plt.text(x0+0.5*data[i,'l'],y0+0.5*data[i,'w'], s= str(i))\n",
        "\n",
        "\n",
        "# Create a figure\n",
        "\n",
        "# Set limits\n",
        "plt.xlim(0, 22)\n",
        "plt.ylim(0, 12)\n",
        "plt.tight_layout()\n",
        "plt.xticks(range(25))\n",
        "plt.yticks(range(12))\n",
        "\n",
        "# Show the plot\n",
        "plt.show()"
      ],
      "metadata": {
        "colab": {
          "base_uri": "https://localhost:8080/",
          "height": 601
        },
        "id": "A8PQBlL4QJrj",
        "outputId": "2d02d5e9-ce4c-4356-a244-3c53f6cb09b9"
      },
      "execution_count": 32,
      "outputs": [
        {
          "output_type": "display_data",
          "data": {
            "text/plain": [
              "<Figure size 800x600 with 1 Axes>"
            ],
            "image/png": "[encoded data removed]"
          },
          "metadata": {}
        }
      ]
    },
    {
      "cell_type": "code",
      "source": [
        "\n"
      ],
      "metadata": {
        "id": "KVj_xEHrn2k0"
      },
      "execution_count": 32,
      "outputs": []
    },
    {
      "cell_type": "markdown",
      "metadata": {
        "id": "yJdhHr-DIlur"
      },
      "source": []
    }
  ],
  "metadata": {
    "colab": {
      "provenance": [],
      "include_colab_link": true
    },
    "kernelspec": {
      "display_name": "Python 3",
      "name": "python3"
    }
  },
  "nbformat": 4,
  "nbformat_minor": 0
}