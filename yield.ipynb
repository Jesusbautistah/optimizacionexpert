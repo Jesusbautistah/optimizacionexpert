{
  "cells": [
    {
      "cell_type": "markdown",
      "metadata": {
        "id": "view-in-github",
        "colab_type": "text"
      },
      "source": [
        "<a href=\"https://colab.research.google.com/github/OptimizationExpert/Pyomo/blob/main/yield.ipynb\" target=\"_parent\"><img src=\"https://colab.research.google.com/assets/colab-badge.svg\" alt=\"Open In Colab\"/></a>"
      ]
    },
    {
      "cell_type": "code",
      "execution_count": 23,
      "metadata": {
        "colab": {
          "base_uri": "https://localhost:8080/"
        },
        "id": "Uo8I7CclVVtJ",
        "outputId": "886a7f7f-6556-44b0-f95e-5752a3b478cc"
      },
      "outputs": [
        {
          "output_type": "stream",
          "name": "stdout",
          "text": [
            "Requirement already satisfied: pyomo in /usr/local/lib/python3.10/dist-packages (6.7.0)\n",
            "Requirement already satisfied: ply in /usr/local/lib/python3.10/dist-packages (from pyomo) (3.11)\n"
          ]
        }
      ],
      "source": [
        "!pip install pyomo\n",
        "from pyomo.environ import *\n",
        "import matplotlib.pyplot as plt\n",
        "import numpy as np\n",
        "import random\n",
        "import pandas as pd"
      ]
    },
    {
      "cell_type": "code",
      "source": [
        "N = 50\n",
        "V = {i:random.randint(1,10) for i in range(1,1+N)}"
      ],
      "metadata": {
        "id": "oladWqui0cSR"
      },
      "execution_count": 24,
      "outputs": []
    },
    {
      "cell_type": "code",
      "execution_count": 25,
      "metadata": {
        "id": "gyBk8eDaVVtO"
      },
      "outputs": [],
      "source": [
        "model = AbstractModel()\n",
        "\n",
        "M = max(V.values())\n",
        "model.i = RangeSet(N)\n",
        "\n",
        "model.u = Var(model.i, within=Binary)\n",
        "model.y = Var(model.i, within=Binary)\n",
        "\n",
        "model.min_value = Var(bounds=(0,10), within=Reals)\n",
        "\n",
        "model.OF = Var(bounds=(0,100), within=Reals)\n",
        "\n",
        "def rule_C1(model,i):\n",
        "  return  model.min_value >= 0.7*model.u[i]*V[i]\n",
        "model.C1=Constraint(model.i, rule=rule_C1)\n",
        "\n",
        "def rule_C2(model,i):\n",
        "  return  model.min_value <= model.u[i]*V[i] + M*(1-model.u[i])\n",
        "model.C2=Constraint(model.i, rule=rule_C2)\n",
        "\n",
        "def rule_C3(model):\n",
        "  return  model.OF == sum(model.u[i]*V[i] for i in model.i)\n",
        "model.C3=Constraint(rule=rule_C3)\n",
        "\n",
        "def rule_C4(model,i):\n",
        "  return  model.min_value - model.y[i]*V[i] <= M*(1-model.y[i])\n",
        "model.C4=Constraint(model.i, rule=rule_C4)\n",
        "\n",
        "def rule_C5(model,i):\n",
        "  return  -model.min_value + model.y[i]*V[i] <= M*(1-model.y[i])\n",
        "model.C5=Constraint(model.i, rule=rule_C5)\n",
        "\n",
        "def rule_C6(model):\n",
        "  return sum(model.y[i] for i in model.i )>= 1\n",
        "model.C6=Constraint( rule=rule_C6)\n",
        "\n",
        "def rule_C7(model,i):\n",
        "  return  model.u[i] >= model.y[i]\n",
        "model.C7=Constraint(model.i, rule=rule_C7)\n",
        "\n",
        "model.obj1 = Objective(expr=model.OF, sense=maximize)"
      ]
    },
    {
      "cell_type": "code",
      "execution_count": 26,
      "metadata": {
        "id": "oNDYWsmAVVtP"
      },
      "outputs": [],
      "source": [
        "#opt = SolverFactory('cbc')\n",
        "!apt-get install -y -qq coinor-cbc\n",
        "opt = SolverFactory('cbc', executable='/usr/bin/cbc')\n",
        "instance = model.create_instance()"
      ]
    },
    {
      "cell_type": "code",
      "execution_count": 27,
      "metadata": {
        "colab": {
          "base_uri": "https://localhost:8080/"
        },
        "id": "GeDGa-H8VVtP",
        "outputId": "bf548e8b-6cd3-4c51-d9f7-ff58478785b0"
      },
      "outputs": [
        {
          "output_type": "stream",
          "name": "stdout",
          "text": [
            "this is feasible and optimal and nothing more\n",
            "OF=  100.0\n",
            "min_value=  7.0 7.0\n",
            "7 1.0 10 0.0\n",
            "11 1.0 8 0.0\n",
            "15 1.0 7 0.0\n",
            "22 1.0 10 0.0\n",
            "24 1.0 10 0.0\n",
            "25 1.0 8 0.0\n",
            "27 1.0 7 1.0\n",
            "40 1.0 10 0.0\n",
            "45 1.0 10 0.0\n",
            "49 1.0 10 0.0\n",
            "50 1.0 10 0.0\n"
          ]
        }
      ],
      "source": [
        "results = opt.solve(instance) # solves and updates instance\n",
        "from pyomo.opt import SolverStatus, TerminationCondition\n",
        "if (results.solver.status == SolverStatus.ok) and (results.solver.termination_condition == TerminationCondition.optimal):\n",
        "     print (\"this is feasible and optimal and nothing more\")\n",
        "elif results.solver.termination_condition == TerminationCondition.infeasible:\n",
        "     print (\"do something about it? or exit?\")\n",
        "else:\n",
        "     print ('ERROR ' + str(results.solver))\n",
        "\n",
        "print('OF= ', value(instance.obj1) )\n",
        "A= [value(instance.u[i])*V[i] for i in instance.i if value(instance.u[i])>0]\n",
        "print('min_value= ', value(instance.min_value) , min(A))\n",
        "for i in instance.i:\n",
        "  if value(instance.u[i])>0:\n",
        "    print(i, value(instance.u[i]), V[i], value(instance.y[i]))"
      ]
    }
  ],
  "metadata": {
    "kernelspec": {
      "display_name": "Python 3",
      "language": "python",
      "name": "python3"
    },
    "language_info": {
      "codemirror_mode": {
        "name": "ipython",
        "version": 3
      },
      "file_extension": ".py",
      "mimetype": "text/x-python",
      "name": "python",
      "nbconvert_exporter": "python",
      "pygments_lexer": "ipython3",
      "version": "3.7.12"
    },
    "colab": {
      "provenance": [],
      "include_colab_link": true
    }
  },
  "nbformat": 4,
  "nbformat_minor": 0
}