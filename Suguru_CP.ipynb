{
  "cells": [
    {
      "cell_type": "markdown",
      "metadata": {
        "id": "view-in-github",
        "colab_type": "text"
      },
      "source": [
        "<a href=\"https://colab.research.google.com/github/OptimizationExpert/Pyomo/blob/main/Suguru_CP.ipynb\" target=\"_parent\"><img src=\"https://colab.research.google.com/assets/colab-badge.svg\" alt=\"Open In Colab\"/></a>"
      ]
    },
    {
      "cell_type": "markdown",
      "metadata": {
        "id": "VvJL0bOSIm84"
      },
      "source": [
        "Developed by Alireza Soroudi\n",
        "alireza.soroudi@gmail.com\n",
        "\n",
        "Linkedin News letter : https://www.linkedin.com/newsletters/optimization-in-open-source-6874020019009859585/\n",
        "\n",
        "Git hub: https://github.com/OptimizationExpert/Pyomo\n",
        "\n",
        "Problem description:\n",
        "https://www.linkedin.com/pulse/suguru-puzzle-cp-alireza-soroudi-sgzke\n",
        "\n"
      ]
    },
    {
      "cell_type": "markdown",
      "source": [
        "#  Solving Suguru (Tectonic) puzzles\n",
        "https://community.wolfram.com/groups/-/m/t/1077888\n"
      ],
      "metadata": {
        "id": "YUG7lD_SKTng"
      }
    },
    {
      "cell_type": "code",
      "execution_count": 23,
      "metadata": {
        "colab": {
          "base_uri": "https://localhost:8080/"
        },
        "id": "w_3yuwV8XtMF",
        "outputId": "4d64363c-46d2-4e80-836b-d296b40570cd"
      },
      "outputs": [
        {
          "output_type": "stream",
          "name": "stdout",
          "text": [
            "Requirement already satisfied: ortools in /usr/local/lib/python3.10/dist-packages (9.9.3963)\n",
            "Requirement already satisfied: absl-py>=2.0.0 in /usr/local/lib/python3.10/dist-packages (from ortools) (2.1.0)\n",
            "Requirement already satisfied: numpy>=1.13.3 in /usr/local/lib/python3.10/dist-packages (from ortools) (1.25.2)\n",
            "Requirement already satisfied: pandas>=2.0.0 in /usr/local/lib/python3.10/dist-packages (from ortools) (2.0.3)\n",
            "Requirement already satisfied: protobuf>=4.25.3 in /usr/local/lib/python3.10/dist-packages (from ortools) (5.26.1)\n",
            "Requirement already satisfied: immutabledict>=3.0.0 in /usr/local/lib/python3.10/dist-packages (from ortools) (4.2.0)\n",
            "Requirement already satisfied: python-dateutil>=2.8.2 in /usr/local/lib/python3.10/dist-packages (from pandas>=2.0.0->ortools) (2.8.2)\n",
            "Requirement already satisfied: pytz>=2020.1 in /usr/local/lib/python3.10/dist-packages (from pandas>=2.0.0->ortools) (2023.4)\n",
            "Requirement already satisfied: tzdata>=2022.1 in /usr/local/lib/python3.10/dist-packages (from pandas>=2.0.0->ortools) (2024.1)\n",
            "Requirement already satisfied: six>=1.5 in /usr/local/lib/python3.10/dist-packages (from python-dateutil>=2.8.2->pandas>=2.0.0->ortools) (1.16.0)\n",
            "Mounted at /content/drive\n"
          ]
        }
      ],
      "source": [
        "!pip install ortools\n",
        "from ortools.sat.python import cp_model # CP-SAT solver\n",
        "import numpy as np\n",
        "from random import randint\n",
        "import random\n",
        "from math import ceil\n",
        "import pandas as pd\n",
        "import matplotlib.pyplot as plt # Data visualization\n",
        "from matplotlib.patches import Rectangle\n",
        "from google.colab import files\n",
        "\n",
        "import matplotlib.patches as patches\n",
        "\n",
        "from google.colab import drive\n",
        "drive.mount('/content/drive')"
      ]
    },
    {
      "cell_type": "code",
      "source": [
        "tectons  = [\n",
        "    {(1, 1), (1, 2), (2, 1), (2, 2), (3, 1)},\n",
        "    {(1, 3), (1, 4), (1, 5), (2, 3), (2, 4)},\n",
        "    {(1, 6), (1, 7), (2, 5), (2, 6), (3, 5)},\n",
        "    {(1, 8), (2, 7), (2, 8), (3, 6), (3, 7)},\n",
        "    {(1, 9), (2, 9), (3, 9), (4, 8), (4, 9)},\n",
        "    {(3, 8)},\n",
        "    {(5, 8)},\n",
        "    {(5, 9), (6, 8), (6, 9), (7, 8), (7, 9)},\n",
        "    {(4, 6), (4, 7), (5, 6), (5, 7), (6, 7)},\n",
        "    {(5, 5), (6, 5), (6, 6), (7, 4), (7, 5)},\n",
        "    {(5, 2), (5, 3), (6, 3), (6, 4), (7, 3)},\n",
        "    {(3, 3), (3, 4), (4, 4), (4, 5), (5, 4)},\n",
        "    {(3, 2), (4, 1), (4, 2), (4, 3), (5, 1)},\n",
        "    {(6, 1), (6, 2), (7, 1), (7, 2)},\n",
        "    {(7, 6), (7, 7)}\n",
        "]\n",
        "\n",
        "given = {\n",
        "    (1, 1): 1,\n",
        "    (2, 2): 2,\n",
        "    (3, 1): 4,\n",
        "    (1, 4): 1,\n",
        "    (2, 8): 3,\n",
        "    (3, 3): 4,\n",
        "    (3, 9): 4,\n",
        "    (4, 4): 1,\n",
        "    (5, 1): 4,\n",
        "    (5, 3): 5,\n",
        "    (5, 5): 4,\n",
        "    (5, 7): 5,\n",
        "    (6, 8): 3,\n",
        "    (7, 5): 2,\n",
        "    (7, 9): 5\n",
        "}\n",
        "\n",
        "cells, loc2cells = {}, {}\n",
        "counter =0\n",
        "for x in range(1,10):\n",
        "  for y in range(1,8):\n",
        "    counter+=1\n",
        "    cells[counter]=(x,y)\n",
        "    loc2cells[x,y]= counter\n",
        "\n",
        "\n",
        "\n",
        "projects = {pr:[] for pr in range(1,1+len(tectons))}\n",
        "counter = 0\n",
        "for all_cels in tectons:\n",
        "  pr = tectons.index(all_cels)+1\n",
        "  for project in all_cels:\n",
        "    (y,x) = project\n",
        "    projects[pr]+= [loc2cells[x,y]]\n",
        "\n",
        "\n",
        "cell2proj = {cell:pr for pr,cells in projects.items() for cell in cells }"
      ],
      "metadata": {
        "id": "zp3BLJ8Jxjxh"
      },
      "execution_count": 24,
      "outputs": []
    },
    {
      "cell_type": "code",
      "execution_count": 25,
      "metadata": {
        "id": "AxZSoOv2-NEu"
      },
      "outputs": [],
      "source": [
        "KOLORS = [\"#1f77b4\", \"#ff7f0e\", \"#2ca02c\", \"#d62728\", \"#9467bd\",\n",
        "            \"#8c564b\", \"#e377c2\", \"#7f7f7f\", \"#bcbd22\", \"#17becf\",\n",
        "            \"#aec7e8\", \"#ffbb78\", \"#98df8a\", \"#ff9896\", \"#c5b0d5\",\n",
        "            \"#c49c94\", \"#f7b6d2\", \"#c7c7c7\", \"#dbdb8d\", \"#9edae5\",\n",
        "            \"#8c6d31\", \"#9c9ede\", \"#637939\", \"#e7cb94\", \"#b5cf6b\",\n",
        "            \"#cedb9c\", \"#c7c7c7\", \"#bd9e39\", \"#e7969c\", \"#7b4173\"]"
      ]
    },
    {
      "cell_type": "code",
      "source": [
        "plt.figure(figsize=(6,4))\n",
        "\n",
        "for pr,nodes in projects.items():\n",
        "  for node in nodes:\n",
        "    plt.scatter(cells[node][0],7- cells[node][1]+0.1, marker='s', s=600,  c= KOLORS[pr+5])\n",
        "\n",
        "for (y,x),v in given.items():\n",
        "    plt.text(x-0.1,7-y, s=str(v), fontsize=14, fontweight='bold', c='k')\n",
        "\n",
        "plt.axis('off')\n",
        "plt.show()\n"
      ],
      "metadata": {
        "colab": {
          "base_uri": "https://localhost:8080/",
          "height": 345
        },
        "id": "lqw1iTmuft6T",
        "outputId": "71fb8398-141e-4c7b-d55e-1c297d422330"
      },
      "execution_count": 26,
      "outputs": [
        {
          "output_type": "display_data",
          "data": {
            "text/plain": [
              "<Figure size 600x400 with 1 Axes>"
            ],
            "image/png": "[encoded data removed]"
          },
          "metadata": {}
        }
      ]
    },
    {
      "cell_type": "code",
      "source": [
        "model = cp_model.CpModel()\n",
        "solver = cp_model.CpSolver()\n",
        "U = {i:model.NewIntVar(1,len(projects[cell2proj[i]])  , f\"connection_{i}\") for i in cells.keys()}\n",
        "\n",
        "for project,list_V in projects.items():\n",
        "  expressions= [ U[c] for c in list_V]\n",
        "  model.AddAllDifferent(expressions)\n",
        "\n",
        "for cell1 in cells:\n",
        "  for cell2 in cells:\n",
        "    x1, y1= cells[cell1][0], cells[cell1][1]\n",
        "    x2, y2= cells[cell2][0], cells[cell2][1]\n",
        "    if cell1 !=cell2 and (x1-x2)**2 +(y1-y2)**2 <=2:\n",
        "        expressions= [ U[cell1], U[cell2]]\n",
        "        model.AddAllDifferent(expressions)\n",
        "\n",
        "for (y,x),v in given.items():\n",
        "  cell= loc2cells[x,y]\n",
        "  model.Add(U[cell] == v)\n",
        "\n",
        "status = solver.Solve(model)\n",
        "if status == cp_model.FEASIBLE:\n",
        "  print(\"feasible\")\n",
        "elif status == cp_model.OPTIMAL:\n",
        "  print(\"optimal\")\n",
        "elif status == cp_model.INFEASIBLE:\n",
        "  print(\"INFEASIBLE\")\n",
        "elif status == cp_model.UNKNOWN:\n",
        "  print(\"UNKNOWN\")\n"
      ],
      "metadata": {
        "colab": {
          "base_uri": "https://localhost:8080/"
        },
        "id": "1u74WJiO3-3W",
        "outputId": "e2763b08-5d73-4e87-8147-22c787f35f04"
      },
      "execution_count": 38,
      "outputs": [
        {
          "output_type": "stream",
          "name": "stdout",
          "text": [
            "optimal\n"
          ]
        }
      ]
    },
    {
      "cell_type": "code",
      "source": [
        "plt.figure(figsize=(6,4))\n",
        "for (y,x),v in given.items():\n",
        "    plt.scatter(x,7-y+0.1, s=500, c='gold', alpha=0.7)\n",
        "    plt.text(x-0.1,7-y, s=str(v), fontsize=14, fontweight='bold', c='k')\n",
        "\n",
        "\n",
        "\n",
        "for pr,nodes in projects.items():\n",
        "  for node in nodes:\n",
        "    plt.scatter(cells[node][0],7- cells[node][1]+0.1, marker='s', s=700,  c= KOLORS[pr+5])\n",
        "    v = solver.value(U[node])\n",
        "    x,y = cells[node]\n",
        "    #plt.text(x-0.1,7-y, s=str(v), fontsize=14, fontweight='bold', c='k')\n",
        "\n",
        "\n",
        "plt.axis('off')\n",
        "plt.show()"
      ],
      "metadata": {
        "colab": {
          "base_uri": "https://localhost:8080/",
          "height": 345
        },
        "id": "A8PQBlL4QJrj",
        "outputId": "ee4b9b53-4c5d-45c2-8823-660a2def4b5c"
      },
      "execution_count": 39,
      "outputs": [
        {
          "output_type": "display_data",
          "data": {
            "text/plain": [
              "<Figure size 600x400 with 1 Axes>"
            ],
            "image/png": "[encoded data removed]"
          },
          "metadata": {}
        }
      ]
    },
    {
      "cell_type": "code",
      "source": [
        "plt.figure(figsize=(6,4))\n",
        "for (y,x),v in given.items():\n",
        "    plt.scatter(x,7-y+0.1, s=500, c='gold', alpha=0.7)\n",
        "    plt.text(x-0.1,7-y, s=str(v), fontsize=14, fontweight='bold', c='k')\n",
        "\n",
        "for pr,nodes in projects.items():\n",
        "  for node in nodes:\n",
        "    plt.scatter(cells[node][0],7- cells[node][1]+0.1, marker='s', s=700,  c= KOLORS[pr+5])\n",
        "plt.axis('off')\n",
        "\n",
        "counter= 0\n",
        "for pr,nodes in projects.items():\n",
        "  for node in nodes:\n",
        "    #plt.scatter(cells[node][0],7- cells[node][1]+0.1, marker='s', s=700,  c= KOLORS[pr+5])\n",
        "    v = solver.value(U[node])\n",
        "    x,y = cells[node]\n",
        "    if (y,x) not in given.items():\n",
        "      plt.text(x-0.1,7-y, s=str(v), fontsize=14, fontweight='bold', c='k')\n",
        "      plt.savefig(f'/content/drive/My Drive/Colab Notebooks/img/rectangle_plot_{counter}.png')\n",
        "      counter+=1\n",
        "\n",
        "\n",
        "plt.show()\n"
      ],
      "metadata": {
        "colab": {
          "base_uri": "https://localhost:8080/",
          "height": 345
        },
        "id": "KVj_xEHrn2k0",
        "outputId": "d01b0406-1fc9-4148-dd99-73e443ba9f05"
      },
      "execution_count": 42,
      "outputs": [
        {
          "output_type": "display_data",
          "data": {
            "text/plain": [
              "<Figure size 600x400 with 1 Axes>"
            ],
            "image/png": "[encoded data removed]"
          },
          "metadata": {}
        }
      ]
    },
    {
      "cell_type": "markdown",
      "metadata": {
        "id": "yJdhHr-DIlur"
      },
      "source": []
    }
  ],
  "metadata": {
    "colab": {
      "provenance": [],
      "include_colab_link": true
    },
    "kernelspec": {
      "display_name": "Python 3",
      "name": "python3"
    }
  },
  "nbformat": 4,
  "nbformat_minor": 0
}