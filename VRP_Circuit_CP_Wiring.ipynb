{
  "nbformat": 4,
  "nbformat_minor": 0,
  "metadata": {
    "colab": {
      "provenance": [],
      "include_colab_link": true
    },
    "kernelspec": {
      "name": "python3",
      "display_name": "Python 3"
    }
  },
  "cells": [
    {
      "cell_type": "markdown",
      "metadata": {
        "id": "view-in-github",
        "colab_type": "text"
      },
      "source": [
        "<a href=\"https://colab.research.google.com/github/OptimizationExpert/Pyomo/blob/main/VRP_Circuit_CP_Wiring.ipynb\" target=\"_parent\"><img src=\"https://colab.research.google.com/assets/colab-badge.svg\" alt=\"Open In Colab\"/></a>"
      ]
    },
    {
      "cell_type": "markdown",
      "source": [
        "Developed by Alireza Soroudi\n",
        "alireza.soroudi@gmail.com\n",
        "\n",
        "Linkedin News letter : https://www.linkedin.com/in/soroudi/"
      ],
      "metadata": {
        "id": "VvJL0bOSIm84"
      }
    },
    {
      "cell_type": "code",
      "metadata": {
        "id": "w_3yuwV8XtMF",
        "outputId": "abeb5150-6e01-4036-a72a-48883d67e131",
        "colab": {
          "base_uri": "https://localhost:8080/"
        }
      },
      "source": [
        "!pip install ortools\n",
        "from ortools.sat.python import cp_model # CP-SAT solver\n",
        "import numpy as np\n",
        "from random import randint\n",
        "import random\n",
        "from math import ceil\n",
        "import pandas as pd\n",
        "import matplotlib.pyplot as plt # Data visualization\n",
        "#plt.rcParams[\"figure.figsize\"] = (15,10)"
      ],
      "execution_count": null,
      "outputs": [
        {
          "output_type": "stream",
          "name": "stdout",
          "text": [
            "Collecting ortools\n",
            "  Downloading ortools-9.8.3296-cp310-cp310-manylinux_2_17_x86_64.manylinux2014_x86_64.whl (22.9 MB)\n",
            "\u001b[2K     \u001b[90m━━━━━━━━━━━━━━━━━━━━━━━━━━━━━━━━━━━━━━━━\u001b[0m \u001b[32m22.9/22.9 MB\u001b[0m \u001b[31m39.4 MB/s\u001b[0m eta \u001b[36m0:00:00\u001b[0m\n",
            "\u001b[?25hCollecting absl-py>=2.0.0 (from ortools)\n",
            "  Downloading absl_py-2.1.0-py3-none-any.whl (133 kB)\n",
            "\u001b[2K     \u001b[90m━━━━━━━━━━━━━━━━━━━━━━━━━━━━━━━━━━━━━━━━\u001b[0m \u001b[32m133.7/133.7 kB\u001b[0m \u001b[31m12.3 MB/s\u001b[0m eta \u001b[36m0:00:00\u001b[0m\n",
            "\u001b[?25hRequirement already satisfied: numpy>=1.13.3 in /usr/local/lib/python3.10/dist-packages (from ortools) (1.25.2)\n",
            "Collecting pandas>=2.0.0 (from ortools)\n",
            "  Downloading pandas-2.2.1-cp310-cp310-manylinux_2_17_x86_64.manylinux2014_x86_64.whl (13.0 MB)\n",
            "\u001b[2K     \u001b[90m━━━━━━━━━━━━━━━━━━━━━━━━━━━━━━━━━━━━━━━━\u001b[0m \u001b[32m13.0/13.0 MB\u001b[0m \u001b[31m39.1 MB/s\u001b[0m eta \u001b[36m0:00:00\u001b[0m\n",
            "\u001b[?25hCollecting protobuf>=4.25.0 (from ortools)\n",
            "  Downloading protobuf-4.25.3-cp37-abi3-manylinux2014_x86_64.whl (294 kB)\n",
            "\u001b[2K     \u001b[90m━━━━━━━━━━━━━━━━━━━━━━━━━━━━━━━━━━━━━━━━\u001b[0m \u001b[32m294.6/294.6 kB\u001b[0m \u001b[31m29.3 MB/s\u001b[0m eta \u001b[36m0:00:00\u001b[0m\n",
            "\u001b[?25hRequirement already satisfied: python-dateutil>=2.8.2 in /usr/local/lib/python3.10/dist-packages (from pandas>=2.0.0->ortools) (2.8.2)\n",
            "Requirement already satisfied: pytz>=2020.1 in /usr/local/lib/python3.10/dist-packages (from pandas>=2.0.0->ortools) (2023.4)\n",
            "Collecting tzdata>=2022.7 (from pandas>=2.0.0->ortools)\n",
            "  Downloading tzdata-2024.1-py2.py3-none-any.whl (345 kB)\n",
            "\u001b[2K     \u001b[90m━━━━━━━━━━━━━━━━━━━━━━━━━━━━━━━━━━━━━━━━\u001b[0m \u001b[32m345.4/345.4 kB\u001b[0m \u001b[31m34.9 MB/s\u001b[0m eta \u001b[36m0:00:00\u001b[0m\n",
            "\u001b[?25hRequirement already satisfied: six>=1.5 in /usr/local/lib/python3.10/dist-packages (from python-dateutil>=2.8.2->pandas>=2.0.0->ortools) (1.16.0)\n"
          ]
        }
      ]
    },
    {
      "cell_type": "code",
      "source": [
        "\n",
        "KOLORS = [\"#1f77b4\", \"#ff7f0e\", \"#2ca02c\", \"#d62728\", \"#9467bd\",\n",
        "            \"#8c564b\", \"#e377c2\", \"#7f7f7f\", \"#bcbd22\", \"#17becf\",\n",
        "            \"#aec7e8\", \"#ffbb78\", \"#98df8a\", \"#ff9896\", \"#c5b0d5\",\n",
        "            \"#c49c94\", \"#f7b6d2\", \"#c7c7c7\", \"#dbdb8d\", \"#9edae5\",\n",
        "            \"#8c6d31\", \"#9c9ede\", \"#637939\", \"#e7cb94\", \"#b5cf6b\",\n",
        "            \"#cedb9c\", \"#c7c7c7\", \"#bd9e39\", \"#e7969c\", \"#7b4173\"]"
      ],
      "metadata": {
        "id": "AxZSoOv2-NEu"
      },
      "execution_count": null,
      "outputs": []
    },
    {
      "cell_type": "code",
      "source": [
        "nr, nc  = 11, 14\n",
        "banned = [104,105,106,107,108 , 91, 92,93,94, 78 , 79, 80, 65, 66, 52, 122]\n",
        "\n",
        "data = {}\n",
        "counter = 0\n",
        "plt.figure(figsize=(8,8))\n",
        "for r in range(1,1+nr):\n",
        "  for c in range(1,1+nc):\n",
        "    counter +=1\n",
        "    data[counter,'x'] = c\n",
        "    data[counter,'y'] = r\n",
        "    plt.text(c-0.25,r, s= str(counter), c = 'w', fontweight = 'bold')\n",
        "    if counter not in banned:\n",
        "      plt.scatter(c,r, s= 750, c='k')\n",
        "    else:\n",
        "      plt.scatter(c,r, s= 750, c='grey')\n",
        "plt.xticks(range(1,1+nc))\n",
        "plt.yticks(range(1,1+nr))\n",
        "plt.show()\n",
        "print(counter)"
      ],
      "metadata": {
        "id": "73GHzcc5gBN3"
      },
      "execution_count": null,
      "outputs": []
    },
    {
      "cell_type": "code",
      "source": [
        "\n",
        "nodes = [n for n in range(1,154+1) if n not in banned ]\n",
        "\n",
        "def dist(i,j,data):\n",
        "  x1,y1 = data[i,'x'],data[i,'y']\n",
        "  x2,y2 = data[j,'x'],data[j,'y']\n",
        "  return int(100*np.sqrt( (x1-x2)**2 +(y1-y2)**2))\n",
        "\n",
        "dist(1,16,data)\n",
        "\n",
        "st_fn = {0:(72,139) ,1:(89,110) , 2:(46,96)}"
      ],
      "metadata": {
        "id": "yU46bQJO2WvI"
      },
      "execution_count": null,
      "outputs": []
    },
    {
      "cell_type": "code",
      "metadata": {
        "id": "yyF-IzKMcyrj"
      },
      "source": [
        "model = cp_model.CpModel()\n",
        "solver = cp_model.CpSolver()\n",
        "cars = range(3)\n",
        "\n",
        "U = {(i,j,c):model.NewBoolVar(f\"connection_{i}_{j}_{c}\")  for c in cars for i in nodes for j in nodes if i!=j and dist(i,j,data) <142}\n",
        "assign = {(i,c):model.NewBoolVar(f\"assign_{i}_{c}\")  for c in cars for i in nodes}\n",
        "\n",
        "\n",
        "\n",
        "\n",
        "for n in nodes:\n",
        "  expressions = [assign[n,c] for c in cars ]\n",
        "  model.AddAtMostOne(expressions)\n",
        "for c in cars:\n",
        "  (st,fn) = st_fn[c]\n",
        "  arcs = [(i,j,v) for (i,j,k),v in U.items() if k ==c]\n",
        "  arc_in_car = arcs + [(n,n,assign[n,c].Not()) for n in nodes ] + [(st,fn,True)]\n",
        "  model.AddCircuit(arc_in_car)\n",
        "\n",
        "# Maximize x\n",
        "expressions = [v*dist(i,j,data) for (i,j,c),v in U.items() ]\n",
        "model.Minimize(sum(expressions))\n",
        "\n",
        "status = solver.Solve(model)\n",
        "\n",
        "if status == cp_model.OPTIMAL:\n",
        "  print(\"OPTIMAL\")\n",
        "elif status == cp_model.FEASIBLE:\n",
        "  print(\"FEASIBLE\")\n",
        "elif status == cp_model.INFEASIBLE:\n",
        "  print(\"INFEASIBLE\")\n",
        "\n",
        "\n",
        "#print(f\"x\", solver.Value(x))\n"
      ],
      "execution_count": null,
      "outputs": []
    },
    {
      "cell_type": "code",
      "source": [
        "plt.figure(figsize=(8,8))\n",
        "\n",
        "for n in nodes:\n",
        "    c = data[n,'x']\n",
        "    r= data[n,'y']\n",
        "    plt.text(c-0.25,r, s= str(n), c = 'w', fontweight = 'bold')\n",
        "    plt.scatter(c,r, s= 750, c='k', alpha = 0.2, zorder = -1)\n",
        "    if n not in banned:\n",
        "      plt.scatter(c,r, s= 750, c='k', alpha = 0.8)\n",
        "\n",
        "for n in banned:\n",
        "    c = data[n,'x']\n",
        "    r= data[n,'y']\n",
        "    plt.text(c-0.25,r, s= str(n), c = 'w', fontweight = 'bold')\n",
        "    plt.scatter(c,r, s= 750, c='grey', alpha = 0.6, zorder = -1)\n",
        "\n",
        "for (i,j,c), v in U.items():\n",
        "    if solver.Value(v)>0:\n",
        "      x1,y1 = data[i,'x'],data[i,'y']\n",
        "      x2,y2 = data[j,'x'],data[j,'y']\n",
        "      plt.plot([x1,x2],[y1,y2], lw= 5 , c = KOLORS[c])\n",
        "    #plt.text(c-0.25,r, s= str(counter), c = 'w', fontweight = 'bold')\n",
        "    #plt.scatter(c,r, s= 750, c='k')\n",
        "plt.xticks(range(1,1+nc))\n",
        "plt.yticks(range(1,1+nr))\n",
        "plt.show()\n",
        "print(counter)"
      ],
      "metadata": {
        "id": "ElYgph6J8VVX"
      },
      "execution_count": null,
      "outputs": []
    },
    {
      "cell_type": "markdown",
      "source": [],
      "metadata": {
        "id": "yJdhHr-DIlur"
      }
    }
  ]
}